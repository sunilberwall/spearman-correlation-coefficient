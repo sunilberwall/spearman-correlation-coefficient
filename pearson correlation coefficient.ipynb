{
 "cells": [
  {
   "cell_type": "markdown",
   "metadata": {},
   "source": [
    "# pearson correlation coefficient\n",
    "\n",
    "it is only applicable for linear relation between x and y.\n",
    "\n",
    "if p(x,y) =1 ,it is monotonic function\n",
    "\n",
    "if p(x,y) =-1 ,it is opposite of monotonic.\n",
    "\n",
    "if 1>p(x,y)<0 , then it is look like monotonic \n",
    "\n",
    "if -1<p(x,y)>0 ,then it is more look like not a monotonic function\n",
    "\n",
    "\n",
    "\n",
    "p(x,y)= cov(x,y)/std(x).std(y)"
   ]
  },
  {
   "cell_type": "code",
   "execution_count": 7,
   "metadata": {},
   "outputs": [],
   "source": [
    "import numpy as np\n",
    "import matplotlib.pyplot as plt"
   ]
  },
  {
   "cell_type": "code",
   "execution_count": 8,
   "metadata": {},
   "outputs": [
    {
     "name": "stdout",
     "output_type": "stream",
     "text": [
      "-4.999999999999999\n"
     ]
    },
    {
     "data": {
      "image/png": "[encoded data removed]",
      "text/plain": [
       "<Figure size 432x288 with 1 Axes>"
      ]
     },
     "metadata": {
      "needs_background": "light"
     },
     "output_type": "display_data"
    }
   ],
   "source": [
    "x=np.array([1,2,3,4,5])\n",
    "y=np.array([9,8,7,6,5])\n",
    "\n",
    "def cov(x,y):\n",
    "    l=[]\n",
    "    for i in range(len(x)):\n",
    "        num=(x[i]-(sum(x)/len(x)))*(y[i]-(sum(y)/len(y)))\n",
    "        l.append(num)\n",
    "    return sum(l)\n",
    "\n",
    "p=cov(x,y)/(np.std(x) * np.std(y))\n",
    "print(p)\n",
    "plt.plot(x,y)\n",
    "plt.show()"
   ]
  },
  {
   "cell_type": "code",
   "execution_count": null,
   "metadata": {},
   "outputs": [],
   "source": []
  }
 ],
 "metadata": {
  "kernelspec": {
   "display_name": "Python 3",
   "language": "python",
   "name": "python3"
  },
  "language_info": {
   "codemirror_mode": {
    "name": "ipython",
    "version": 3
   },
   "file_extension": ".py",
   "mimetype": "text/x-python",
   "name": "python",
   "nbconvert_exporter": "python",
   "pygments_lexer": "ipython3",
   "version": "3.8.5"
  }
 },
 "nbformat": 4,
 "nbformat_minor": 4
}
